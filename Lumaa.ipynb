{
  "nbformat": 4,
  "nbformat_minor": 0,
  "metadata": {
    "colab": {
      "provenance": []
    },
    "kernelspec": {
      "name": "python3",
      "display_name": "Python 3"
    },
    "language_info": {
      "name": "python"
    }
  },
  "cells": [
    {
      "cell_type": "code",
      "source": [
        "!pip install milvus_model\n",
        "!pip install pymilvus"
      ],
      "metadata": {
        "id": "cfsVtExwz99Z"
      },
      "execution_count": null,
      "outputs": []
    },
    {
      "cell_type": "code",
      "source": [
        "import kagglehub\n",
        "import pandas as pd\n",
        "from pymilvus import model, MilvusClient\n",
        "from numpy import dot\n",
        "from numpy.linalg import norm\n",
        "from multiprocessing import Pool\n",
        "import os\n",
        "from functools import partial\n",
        "from random import sample\n",
        "import numpy as np\n",
        "from openai import OpenAI\n",
        "from tqdm.auto import tqdm"
      ],
      "metadata": {
        "id": "cjPNeJOFLd_f"
      },
      "execution_count": 2,
      "outputs": []
    },
    {
      "cell_type": "markdown",
      "source": [
        "# Data:"
      ],
      "metadata": {
        "id": "acwkwhiQMn1u"
      }
    },
    {
      "cell_type": "code",
      "execution_count": 3,
      "metadata": {
        "colab": {
          "base_uri": "https://localhost:8080/"
        },
        "id": "DbozIf8MxPPi",
        "outputId": "a64eedda-37e5-4702-cacf-e7d90f28add5"
      },
      "outputs": [
        {
          "output_type": "stream",
          "name": "stdout",
          "text": [
            "Path to dataset files: /root/.cache/kagglehub/datasets/jrobischon/wikipedia-movie-plots/versions/1\n"
          ]
        }
      ],
      "source": [
        "# Download the movie dataset\n",
        "path = kagglehub.dataset_download(\"jrobischon/wikipedia-movie-plots\")\n",
        "print(\"Path to dataset files:\", path)"
      ]
    },
    {
      "cell_type": "code",
      "source": [
        "#examin the data\n",
        "df = pd.read_csv('/root/.cache/kagglehub/datasets/jrobischon/wikipedia-movie-plots/versions/1/wiki_movie_plots_deduped.csv')\n",
        "print(\"length of the data: \",len(df))\n",
        "df.head()"
      ],
      "metadata": {
        "colab": {
          "base_uri": "https://localhost:8080/",
          "height": 327
        },
        "id": "w_kDxOfwyFqZ",
        "outputId": "748a64ec-218f-4ce3-bf44-63dbf71be2a2"
      },
      "execution_count": 4,
      "outputs": [
        {
          "output_type": "stream",
          "name": "stdout",
          "text": [
            "length of the data:  34886\n"
          ]
        },
        {
          "output_type": "execute_result",
          "data": {
            "text/plain": [
              "   Release Year                             Title Origin/Ethnicity  \\\n",
              "0          1901            Kansas Saloon Smashers         American   \n",
              "1          1901     Love by the Light of the Moon         American   \n",
              "2          1901           The Martyred Presidents         American   \n",
              "3          1901  Terrible Teddy, the Grizzly King         American   \n",
              "4          1902            Jack and the Beanstalk         American   \n",
              "\n",
              "                             Director Cast    Genre  \\\n",
              "0                             Unknown  NaN  unknown   \n",
              "1                             Unknown  NaN  unknown   \n",
              "2                             Unknown  NaN  unknown   \n",
              "3                             Unknown  NaN  unknown   \n",
              "4  George S. Fleming, Edwin S. Porter  NaN  unknown   \n",
              "\n",
              "                                           Wiki Page  \\\n",
              "0  https://en.wikipedia.org/wiki/Kansas_Saloon_Sm...   \n",
              "1  https://en.wikipedia.org/wiki/Love_by_the_Ligh...   \n",
              "2  https://en.wikipedia.org/wiki/The_Martyred_Pre...   \n",
              "3  https://en.wikipedia.org/wiki/Terrible_Teddy,_...   \n",
              "4  https://en.wikipedia.org/wiki/Jack_and_the_Bea...   \n",
              "\n",
              "                                                Plot  \n",
              "0  A bartender is working at a saloon, serving dr...  \n",
              "1  The moon, painted with a smiling face hangs ov...  \n",
              "2  The film, just over a minute long, is composed...  \n",
              "3  Lasting just 61 seconds and consisting of two ...  \n",
              "4  The earliest known adaptation of the classic f...  "
            ],
            "text/html": [
              "\n",
              "  <div id=\"df-6d71ebda-7121-4047-a077-d486eefc46c9\" class=\"colab-df-container\">\n",
              "    <div>\n",
              "<style scoped>\n",
              "    .dataframe tbody tr th:only-of-type {\n",
              "        vertical-align: middle;\n",
              "    }\n",
              "\n",
              "    .dataframe tbody tr th {\n",
              "        vertical-align: top;\n",
              "    }\n",
              "\n",
              "    .dataframe thead th {\n",
              "        text-align: right;\n",
              "    }\n",
              "</style>\n",
              "<table border=\"1\" class=\"dataframe\">\n",
              "  <thead>\n",
              "    <tr style=\"text-align: right;\">\n",
              "      <th></th>\n",
              "      <th>Release Year</th>\n",
              "      <th>Title</th>\n",
              "      <th>Origin/Ethnicity</th>\n",
              "      <th>Director</th>\n",
              "      <th>Cast</th>\n",
              "      <th>Genre</th>\n",
              "      <th>Wiki Page</th>\n",
              "      <th>Plot</th>\n",
              "    </tr>\n",
              "  </thead>\n",
              "  <tbody>\n",
              "    <tr>\n",
              "      <th>0</th>\n",
              "      <td>1901</td>\n",
              "      <td>Kansas Saloon Smashers</td>\n",
              "      <td>American</td>\n",
              "      <td>Unknown</td>\n",
              "      <td>NaN</td>\n",
              "      <td>unknown</td>\n",
              "      <td>https://en.wikipedia.org/wiki/Kansas_Saloon_Sm...</td>\n",
              "      <td>A bartender is working at a saloon, serving dr...</td>\n",
              "    </tr>\n",
              "    <tr>\n",
              "      <th>1</th>\n",
              "      <td>1901</td>\n",
              "      <td>Love by the Light of the Moon</td>\n",
              "      <td>American</td>\n",
              "      <td>Unknown</td>\n",
              "      <td>NaN</td>\n",
              "      <td>unknown</td>\n",
              "      <td>https://en.wikipedia.org/wiki/Love_by_the_Ligh...</td>\n",
              "      <td>The moon, painted with a smiling face hangs ov...</td>\n",
              "    </tr>\n",
              "    <tr>\n",
              "      <th>2</th>\n",
              "      <td>1901</td>\n",
              "      <td>The Martyred Presidents</td>\n",
              "      <td>American</td>\n",
              "      <td>Unknown</td>\n",
              "      <td>NaN</td>\n",
              "      <td>unknown</td>\n",
              "      <td>https://en.wikipedia.org/wiki/The_Martyred_Pre...</td>\n",
              "      <td>The film, just over a minute long, is composed...</td>\n",
              "    </tr>\n",
              "    <tr>\n",
              "      <th>3</th>\n",
              "      <td>1901</td>\n",
              "      <td>Terrible Teddy, the Grizzly King</td>\n",
              "      <td>American</td>\n",
              "      <td>Unknown</td>\n",
              "      <td>NaN</td>\n",
              "      <td>unknown</td>\n",
              "      <td>https://en.wikipedia.org/wiki/Terrible_Teddy,_...</td>\n",
              "      <td>Lasting just 61 seconds and consisting of two ...</td>\n",
              "    </tr>\n",
              "    <tr>\n",
              "      <th>4</th>\n",
              "      <td>1902</td>\n",
              "      <td>Jack and the Beanstalk</td>\n",
              "      <td>American</td>\n",
              "      <td>George S. Fleming, Edwin S. Porter</td>\n",
              "      <td>NaN</td>\n",
              "      <td>unknown</td>\n",
              "      <td>https://en.wikipedia.org/wiki/Jack_and_the_Bea...</td>\n",
              "      <td>The earliest known adaptation of the classic f...</td>\n",
              "    </tr>\n",
              "  </tbody>\n",
              "</table>\n",
              "</div>\n",
              "    <div class=\"colab-df-buttons\">\n",
              "\n",
              "  <div class=\"colab-df-container\">\n",
              "    <button class=\"colab-df-convert\" onclick=\"convertToInteractive('df-6d71ebda-7121-4047-a077-d486eefc46c9')\"\n",
              "            title=\"Convert this dataframe to an interactive table.\"\n",
              "            style=\"display:none;\">\n",
              "\n",
              "  <svg xmlns=\"http://www.w3.org/2000/svg\" height=\"24px\" viewBox=\"0 -960 960 960\">\n",
              "    <path d=\"M120-120v-720h720v720H120Zm60-500h600v-160H180v160Zm220 220h160v-160H400v160Zm0 220h160v-160H400v160ZM180-400h160v-160H180v160Zm440 0h160v-160H620v160ZM180-180h160v-160H180v160Zm440 0h160v-160H620v160Z\"/>\n",
              "  </svg>\n",
              "    </button>\n",
              "\n",
              "  <style>\n",
              "    .colab-df-container {\n",
              "      display:flex;\n",
              "      gap: 12px;\n",
              "    }\n",
              "\n",
              "    .colab-df-convert {\n",
              "      background-color: #E8F0FE;\n",
              "      border: none;\n",
              "      border-radius: 50%;\n",
              "      cursor: pointer;\n",
              "      display: none;\n",
              "      fill: #1967D2;\n",
              "      height: 32px;\n",
              "      padding: 0 0 0 0;\n",
              "      width: 32px;\n",
              "    }\n",
              "\n",
              "    .colab-df-convert:hover {\n",
              "      background-color: #E2EBFA;\n",
              "      box-shadow: 0px 1px 2px rgba(60, 64, 67, 0.3), 0px 1px 3px 1px rgba(60, 64, 67, 0.15);\n",
              "      fill: #174EA6;\n",
              "    }\n",
              "\n",
              "    .colab-df-buttons div {\n",
              "      margin-bottom: 4px;\n",
              "    }\n",
              "\n",
              "    [theme=dark] .colab-df-convert {\n",
              "      background-color: #3B4455;\n",
              "      fill: #D2E3FC;\n",
              "    }\n",
              "\n",
              "    [theme=dark] .colab-df-convert:hover {\n",
              "      background-color: #434B5C;\n",
              "      box-shadow: 0px 1px 3px 1px rgba(0, 0, 0, 0.15);\n",
              "      filter: drop-shadow(0px 1px 2px rgba(0, 0, 0, 0.3));\n",
              "      fill: #FFFFFF;\n",
              "    }\n",
              "  </style>\n",
              "\n",
              "    <script>\n",
              "      const buttonEl =\n",
              "        document.querySelector('#df-6d71ebda-7121-4047-a077-d486eefc46c9 button.colab-df-convert');\n",
              "      buttonEl.style.display =\n",
              "        google.colab.kernel.accessAllowed ? 'block' : 'none';\n",
              "\n",
              "      async function convertToInteractive(key) {\n",
              "        const element = document.querySelector('#df-6d71ebda-7121-4047-a077-d486eefc46c9');\n",
              "        const dataTable =\n",
              "          await google.colab.kernel.invokeFunction('convertToInteractive',\n",
              "                                                    [key], {});\n",
              "        if (!dataTable) return;\n",
              "\n",
              "        const docLinkHtml = 'Like what you see? Visit the ' +\n",
              "          '<a target=\"_blank\" href=https://colab.research.google.com/notebooks/data_table.ipynb>data table notebook</a>'\n",
              "          + ' to learn more about interactive tables.';\n",
              "        element.innerHTML = '';\n",
              "        dataTable['output_type'] = 'display_data';\n",
              "        await google.colab.output.renderOutput(dataTable, element);\n",
              "        const docLink = document.createElement('div');\n",
              "        docLink.innerHTML = docLinkHtml;\n",
              "        element.appendChild(docLink);\n",
              "      }\n",
              "    </script>\n",
              "  </div>\n",
              "\n",
              "\n",
              "<div id=\"df-f701ff43-1810-431f-a124-2423f6501bc3\">\n",
              "  <button class=\"colab-df-quickchart\" onclick=\"quickchart('df-f701ff43-1810-431f-a124-2423f6501bc3')\"\n",
              "            title=\"Suggest charts\"\n",
              "            style=\"display:none;\">\n",
              "\n",
              "<svg xmlns=\"http://www.w3.org/2000/svg\" height=\"24px\"viewBox=\"0 0 24 24\"\n",
              "     width=\"24px\">\n",
              "    <g>\n",
              "        <path d=\"M19 3H5c-1.1 0-2 .9-2 2v14c0 1.1.9 2 2 2h14c1.1 0 2-.9 2-2V5c0-1.1-.9-2-2-2zM9 17H7v-7h2v7zm4 0h-2V7h2v10zm4 0h-2v-4h2v4z\"/>\n",
              "    </g>\n",
              "</svg>\n",
              "  </button>\n",
              "\n",
              "<style>\n",
              "  .colab-df-quickchart {\n",
              "      --bg-color: #E8F0FE;\n",
              "      --fill-color: #1967D2;\n",
              "      --hover-bg-color: #E2EBFA;\n",
              "      --hover-fill-color: #174EA6;\n",
              "      --disabled-fill-color: #AAA;\n",
              "      --disabled-bg-color: #DDD;\n",
              "  }\n",
              "\n",
              "  [theme=dark] .colab-df-quickchart {\n",
              "      --bg-color: #3B4455;\n",
              "      --fill-color: #D2E3FC;\n",
              "      --hover-bg-color: #434B5C;\n",
              "      --hover-fill-color: #FFFFFF;\n",
              "      --disabled-bg-color: #3B4455;\n",
              "      --disabled-fill-color: #666;\n",
              "  }\n",
              "\n",
              "  .colab-df-quickchart {\n",
              "    background-color: var(--bg-color);\n",
              "    border: none;\n",
              "    border-radius: 50%;\n",
              "    cursor: pointer;\n",
              "    display: none;\n",
              "    fill: var(--fill-color);\n",
              "    height: 32px;\n",
              "    padding: 0;\n",
              "    width: 32px;\n",
              "  }\n",
              "\n",
              "  .colab-df-quickchart:hover {\n",
              "    background-color: var(--hover-bg-color);\n",
              "    box-shadow: 0 1px 2px rgba(60, 64, 67, 0.3), 0 1px 3px 1px rgba(60, 64, 67, 0.15);\n",
              "    fill: var(--button-hover-fill-color);\n",
              "  }\n",
              "\n",
              "  .colab-df-quickchart-complete:disabled,\n",
              "  .colab-df-quickchart-complete:disabled:hover {\n",
              "    background-color: var(--disabled-bg-color);\n",
              "    fill: var(--disabled-fill-color);\n",
              "    box-shadow: none;\n",
              "  }\n",
              "\n",
              "  .colab-df-spinner {\n",
              "    border: 2px solid var(--fill-color);\n",
              "    border-color: transparent;\n",
              "    border-bottom-color: var(--fill-color);\n",
              "    animation:\n",
              "      spin 1s steps(1) infinite;\n",
              "  }\n",
              "\n",
              "  @keyframes spin {\n",
              "    0% {\n",
              "      border-color: transparent;\n",
              "      border-bottom-color: var(--fill-color);\n",
              "      border-left-color: var(--fill-color);\n",
              "    }\n",
              "    20% {\n",
              "      border-color: transparent;\n",
              "      border-left-color: var(--fill-color);\n",
              "      border-top-color: var(--fill-color);\n",
              "    }\n",
              "    30% {\n",
              "      border-color: transparent;\n",
              "      border-left-color: var(--fill-color);\n",
              "      border-top-color: var(--fill-color);\n",
              "      border-right-color: var(--fill-color);\n",
              "    }\n",
              "    40% {\n",
              "      border-color: transparent;\n",
              "      border-right-color: var(--fill-color);\n",
              "      border-top-color: var(--fill-color);\n",
              "    }\n",
              "    60% {\n",
              "      border-color: transparent;\n",
              "      border-right-color: var(--fill-color);\n",
              "    }\n",
              "    80% {\n",
              "      border-color: transparent;\n",
              "      border-right-color: var(--fill-color);\n",
              "      border-bottom-color: var(--fill-color);\n",
              "    }\n",
              "    90% {\n",
              "      border-color: transparent;\n",
              "      border-bottom-color: var(--fill-color);\n",
              "    }\n",
              "  }\n",
              "</style>\n",
              "\n",
              "  <script>\n",
              "    async function quickchart(key) {\n",
              "      const quickchartButtonEl =\n",
              "        document.querySelector('#' + key + ' button');\n",
              "      quickchartButtonEl.disabled = true;  // To prevent multiple clicks.\n",
              "      quickchartButtonEl.classList.add('colab-df-spinner');\n",
              "      try {\n",
              "        const charts = await google.colab.kernel.invokeFunction(\n",
              "            'suggestCharts', [key], {});\n",
              "      } catch (error) {\n",
              "        console.error('Error during call to suggestCharts:', error);\n",
              "      }\n",
              "      quickchartButtonEl.classList.remove('colab-df-spinner');\n",
              "      quickchartButtonEl.classList.add('colab-df-quickchart-complete');\n",
              "    }\n",
              "    (() => {\n",
              "      let quickchartButtonEl =\n",
              "        document.querySelector('#df-f701ff43-1810-431f-a124-2423f6501bc3 button');\n",
              "      quickchartButtonEl.style.display =\n",
              "        google.colab.kernel.accessAllowed ? 'block' : 'none';\n",
              "    })();\n",
              "  </script>\n",
              "</div>\n",
              "\n",
              "    </div>\n",
              "  </div>\n"
            ],
            "application/vnd.google.colaboratory.intrinsic+json": {
              "type": "dataframe",
              "variable_name": "df",
              "summary": "{\n  \"name\": \"df\",\n  \"rows\": 34886,\n  \"fields\": [\n    {\n      \"column\": \"Release Year\",\n      \"properties\": {\n        \"dtype\": \"number\",\n        \"std\": 27,\n        \"min\": 1901,\n        \"max\": 2017,\n        \"num_unique_values\": 117,\n        \"samples\": [\n          1945,\n          1905,\n          1954\n        ],\n        \"semantic_type\": \"\",\n        \"description\": \"\"\n      }\n    },\n    {\n      \"column\": \"Title\",\n      \"properties\": {\n        \"dtype\": \"string\",\n        \"num_unique_values\": 32432,\n        \"samples\": [\n          \"Mayalodu\",\n          \"Dikari\",\n          \"En Rathathin Rathame\"\n        ],\n        \"semantic_type\": \"\",\n        \"description\": \"\"\n      }\n    },\n    {\n      \"column\": \"Origin/Ethnicity\",\n      \"properties\": {\n        \"dtype\": \"category\",\n        \"num_unique_values\": 24,\n        \"samples\": [\n          \"Filipino\",\n          \"Tamil\",\n          \"American\"\n        ],\n        \"semantic_type\": \"\",\n        \"description\": \"\"\n      }\n    },\n    {\n      \"column\": \"Director\",\n      \"properties\": {\n        \"dtype\": \"category\",\n        \"num_unique_values\": 12593,\n        \"samples\": [\n          \"B. S. Narayana\",\n          \"Ravi Kinnagi\",\n          \"Steve Buscemi\"\n        ],\n        \"semantic_type\": \"\",\n        \"description\": \"\"\n      }\n    },\n    {\n      \"column\": \"Cast\",\n      \"properties\": {\n        \"dtype\": \"string\",\n        \"num_unique_values\": 32182,\n        \"samples\": [\n          \"Sivaji Ganesan, K. R. Vijaya, Sripriya\",\n          \"Corbin Bernsen, Dennis Haysbert, Scott Bakula, Bob Uecker\",\n          \"Paul Douglas, Richard Basehart\"\n        ],\n        \"semantic_type\": \"\",\n        \"description\": \"\"\n      }\n    },\n    {\n      \"column\": \"Genre\",\n      \"properties\": {\n        \"dtype\": \"category\",\n        \"num_unique_values\": 2265,\n        \"samples\": [\n          \"comedy/drama/action\",\n          \"drama / suspense / fantasy / costume\",\n          \"comedy, anthology\"\n        ],\n        \"semantic_type\": \"\",\n        \"description\": \"\"\n      }\n    },\n    {\n      \"column\": \"Wiki Page\",\n      \"properties\": {\n        \"dtype\": \"string\",\n        \"num_unique_values\": 34070,\n        \"samples\": [\n          \"https://en.wikipedia.org/wiki/Two_Thousand_and_None\",\n          \"https://en.wikipedia.org/wiki/Death_Note_2:_The_Last_Name\",\n          \"https://en.wikipedia.org/wiki/Contagion_(film)\"\n        ],\n        \"semantic_type\": \"\",\n        \"description\": \"\"\n      }\n    },\n    {\n      \"column\": \"Plot\",\n      \"properties\": {\n        \"dtype\": \"string\",\n        \"num_unique_values\": 33869,\n        \"samples\": [\n          \"In Spain 1519, two con artists, Tulio and Miguel, win a map to the legendary City of Gold, El Dorado, in a rigged dice gamble. After their con is exposed, the two evade the guards and hide aboard one of the ships to be led by Hern\\u00e1n Cort\\u00e9s for the New World. During the voyage, they are caught as stowaways and imprisoned, but break free and take a rowboat with the help of Cort\\u00e9s' horse, Altivo.\\r\\nThey reach an unknown shore at the edge of Mexico, where Miguel begins to recognize landmarks from the map, leading them to a totem marker near a waterfall that Tulio believes is a dead end. As they prepare to leave, they encounter a native woman, Chel, being chased by guards. When the guards see Tulio and Miguel riding Altivo as depicted on the totem, they escort them and Chel to a secret entrance behind the falls, into El Dorado. They are brought to the city's elders, kindhearted Chief Tannabok and wicked high priest Tzekel-Kan. The pair are mistaken for gods and given luxurious quarters, along with the charge of Chel. Chel discovers the two are conning the people but promises to remain quiet if they take her with them when they leave the city. The two are showered with gifts of gold from Tannabok, but disapprove of Tzekel-Kan attempting to sacrifice a civilian as the gods' ritual.\\r\\nTulio instructs Tannabok to build them a boat so that they can leave the city with all the gifts they have been given. During the three days this will take, Miguel explores the city, and Chel gets romantically close to Tulio. Miguel comes to appreciate the peaceful life the citizens seem to enjoy. When Tzekel-Kan sees Miguel playing a ball game with children, he insists the gods demonstrate their powers against the city's best players in the same game. Tulio and Miguel are far outmatched, but Chel is able to substitute the ball with an armadillo, allowing them to win. Miguel spares the ritual of sacrificing the losing team and chastises Tzekel-Kan, much to the crowd's approval. Tzekel-Kan notices Miguel received a small cut and realizes the two are not gods, because gods do not bleed. Tzekel-Kan conjures a giant stone jaguar to chase them through the city. Tulio and Miguel outwit the jaguar, causing it and Tzekel-Kan to fall into a giant whirlpool, thought to be the entrance to Xibalba. Tzekel-Kan then surfaces in the jungle, where he encounters Cort\\u00e9s and his men. Thinking Cort\\u00e9s is a god, he offers to lead them to El Dorado.\\r\\nWith the boat completed, Miguel says he will stay in the city. As Tulio and Chel board the boat, they see smoke on the horizon and realize Cort\\u00e9s is close. Tulio suggests using the boat to ram rock pillars under the waterfall and block the main entrance to the city. The plan succeeds with the citizens pulling over a statue in the boat's wake to give it enough speed. As the statue starts to fall too quickly, Tulio has difficulty in preparing the boat's sail. Giving up on staying in the city, Miguel and Altivo jump onto the boat to unfurl the sails, assuring the boat clears the statue in time. The group successfully crashes against the pillars, causing a cave-in but losing all their gifts in the process. They hide near the totem, just as Cort\\u00e9s' men and Tzekel-Kan arrive. When Tzekel-Kan finds the entrance blocked, Cort\\u00e9s brands him a liar, and takes Tzekel-Kan prisoner as they leave.\\r\\nTulio and Miguel, though disappointed they lost the gold (unaware that Altivo still wears the golden horseshoes with which he was outfitted in El Dorado), head in a different direction for a new adventure with Chel.\",\n          \"First Lieutenant Shunichi Maki of the Japan Air Self-Defense Force is a prestigious F-15 Eagle jet pilot. A lifelong fan of flying since he was a child, being a pilot is his ultimate dream. Unfortunately, his duties distance himself from his wife, Yoko, who feels neglected, and his son, Tsugumu, who has a possibly terminal congenital blood disease.\\r\\nMaki decides to quit the Air Force to devote more time to his family and to spend whatever time is left with his son. He takes a part-time job as a commercial tour guide for a kindly group of people who allow him time to take care of his family.\\r\\nPrior to quitting, Maki and his flight partner Yamashima are alerted to a strange red light streaking towards Japan, and Maki's plane passes through the red light seemingly without any damage. He suffers no ill effects other than strange images briefly playing out in his mind. He later discovers that the images are telepathic messages from a strange being that exists in the red light.\",\n          \"Sergeant Deadhead is a bumbling soldier who is sent to the guardhouse for blowing up a model rocket on the parade ground of the air base where he is stationed. His fianc\\u00e9e, Airman Lucy Turner despairs of ever marrying him because of him being constantly disciplined for his antics. She is worried that she will have to marry him while he is in the guardhouse.\\r\\nTogether with Private McEvoy, Sergeant Deadhead escapes from the guardhouse. Private McEvoy decides to break back in, but Sergeant Deadhead hides in a nearby space rocket, not knowing it is set to blast off with a chimpanzee aboard. He falls asleep in the rocket's control room and is accidentally blasted into space, together with the chimpanzee.\\r\\nWhen Sergeant Deadhead is discovered to be aboard the rocket, General Fogg decides to spin the facts and say that Sergeant Deadhead volunteered for the mission. He and Navy Captain Weiskopf also decide that Sergeant Deadhead and Airman Turner will have a well publicized wedding on the air base when Sergeant Deadhead returns to earth.\\r\\nWhen Sergeant Deadhead returns home he is a national hero but has also developed a massive ego due to space travel causing his personality to blend with that of the chimpanzee, and the realization that he has become a media sensation.\\r\\nA soldier who looks exactly like him, Sergeant Donovan, is found to take his place. When the smooth talking Sergeant Donovan is set to take Sergeant Deadhead's place at the altar, Sergeant Deadhead breaks out of the guardhouse, starts to recover his personality, and switches places with Sergeant Donovan. When the leadership realizes he has escaped the guardhouse, he runs away.\\r\\nSergeant Deadhead finds out about Sergeant Donovan, and goes to the hotel where the wedding reception and honeymoon are taking place. There he switches places with Sergeant Donovan to enjoy his honeymoon. However, General Fogg and the others find Donovan and take him back to the honeymoon suite, looking for Deadhead. Thinking Donovan is Deadhead, Airman Turner chases them out.\\r\\nWhen Airman Turner is preparing a bath for Donovan, Deadhead sneaks in the window and coldcocks Donovan with a vase, knocking him out. Fogg, Weiskopf and the others show up again at the door, claiming to have a message from the President. Thinking that Deadhead is Donovan, Fogg and Weiskopf have two MP's escort Deadhead and Turner to the airport to fly to see the President. Donovan awakes alone in the closet, then goes back to base where Fogg and Weiskopf discover that Deadhead is with Turner and going to meet the President. Deadhead and Turner enjoy the rest of their honeymoon and their meeting with the President.\\r\\nTwo marines appear to arrest Deadhead but mistakenly arrest the President, who is trying on Deadhead's space helmet. Deadhead and Turner escape in a White House helicopter. Fogg, Weiskopf and the others end up in the guardhouse.\"\n        ],\n        \"semantic_type\": \"\",\n        \"description\": \"\"\n      }\n    }\n  ]\n}"
            }
          },
          "metadata": {},
          "execution_count": 4
        }
      ]
    },
    {
      "cell_type": "code",
      "source": [
        "# taking only 300 movies and only keeping title and plot for simplicity\n",
        "dataset = df[0:300]\n",
        "dataset = \"movie title: \" + dataset[\"Title\"] + \" \" + \"movie plot: \" + dataset[\"Plot\"]\n",
        "print(dataset)"
      ],
      "metadata": {
        "colab": {
          "base_uri": "https://localhost:8080/"
        },
        "id": "E1yKuA8MzRzx",
        "outputId": "6a8d5cbd-949b-4585-aec4-47bf4f0fe77b"
      },
      "execution_count": 5,
      "outputs": [
        {
          "output_type": "stream",
          "name": "stdout",
          "text": [
            "0      movie title: Kansas Saloon Smashers movie plot...\n",
            "1      movie title: Love by the Light of the Moon mov...\n",
            "2      movie title: The Martyred Presidents movie plo...\n",
            "3      movie title: Terrible Teddy, the Grizzly King ...\n",
            "4      movie title: Jack and the Beanstalk movie plot...\n",
            "                             ...                        \n",
            "295    movie title: A Society Exile movie plot: Based...\n",
            "296    movie title: Soldiers of Fortune movie plot: R...\n",
            "297    movie title: Sunnyside movie plot: Charlie wor...\n",
            "298    movie title: The Test of Honor movie plot: Mar...\n",
            "299    movie title: True Heart Susie movie plot: As d...\n",
            "Length: 300, dtype: object\n"
          ]
        }
      ]
    },
    {
      "cell_type": "markdown",
      "source": [
        "# Model:"
      ],
      "metadata": {
        "id": "nR9SPfZcMwxB"
      }
    },
    {
      "cell_type": "code",
      "source": [
        "#embedding model\n",
        "openai_key = 'replace with yours'\n",
        "ef = model.dense.OpenAIEmbeddingFunction(\n",
        "   model_name=\"text-embedding-3-small\",\n",
        "   api_key= openai_key)\n",
        "client = OpenAI(api_key=openai_key)\n",
        "USER_STR = \"user\"\n",
        "SYSTEM_STR = \"system\"\n",
        "MSG_STR = \"content\"\n"
      ],
      "metadata": {
        "id": "hnSUOyIE6rNo"
      },
      "execution_count": 6,
      "outputs": []
    },
    {
      "cell_type": "code",
      "source": [
        "def prompt2embedding(data, model):\n",
        "  embeddings = []\n",
        "  for i in range(len(data)):\n",
        "    embeddings.append(model.encode_documents([data[i]]))\n",
        "  return embeddings\n",
        "\n",
        "# convert the dataset into embeddings\n",
        "embeddings = prompt2embedding(dataset, ef)\n",
        "embeddings = np.array(embeddings)\n",
        "embeddings = embeddings.squeeze(1)\n",
        "embeddings.shape"
      ],
      "metadata": {
        "colab": {
          "base_uri": "https://localhost:8080/"
        },
        "id": "VGt6S99K5-h8",
        "outputId": "da06bfbb-d353-4283-a3c6-2d4dae00900a"
      },
      "execution_count": 7,
      "outputs": [
        {
          "output_type": "execute_result",
          "data": {
            "text/plain": [
              "(300, 1536)"
            ]
          },
          "metadata": {},
          "execution_count": 7
        }
      ]
    },
    {
      "cell_type": "code",
      "source": [
        "def cosine_similarity(a, b):\n",
        "    cos_sim = dot(a, b)/(norm(a)*norm(b))\n",
        "    return cos_sim\n",
        "\n",
        "def get_chat_history(shots, dataset, dataset_embeddings, message, model):\n",
        "  chat_history = []\n",
        "  system_message = {\n",
        "    \"role\": \"system\",\n",
        "    \"content\": f\"\"\"You are a content-based recommendation system. Your task is to process a short text description of a user's movie preferences\n",
        "                  and compare it against a dataset of movies (each with a title and a plot summary or keywords). Based on this comparison, you will\n",
        "                  return the top 3–5 movies that best match the user's input. return only the title of the movie\"\"\"\n",
        "                  }\n",
        "  chat_history.append(system_message)\n",
        "  if shots <= 0:\n",
        "      return chat_history\n",
        "\n",
        "  # convert the user prompt to embedding\n",
        "  message_embeddings = prompt2embedding([message], model)\n",
        "  message_embeddings = np.array(message_embeddings)\n",
        "  message_embeddings = message_embeddings.squeeze(0)\n",
        "\n",
        "  # compare the user propmt embedding to the dataset embeddings and return the index of the k highest scores, k is the numbure of shots\n",
        "  with Pool(os.cpu_count()) as pool:\n",
        "        temps = pool.map(partial(cosine_similarity, b=message_embeddings[0]), dataset_embeddings)\n",
        "  temps = np.argsort(temps)[-shots:][::-1]\n",
        "\n",
        "  # append the selected shots to the system message\n",
        "  for i in temps:\n",
        "        system_message = {\n",
        "            \"role\": \"system\",\n",
        "            \"content\": f\"{dataset[i]}\"\n",
        "        }\n",
        "        chat_history.append(system_message)\n",
        "\n",
        "  return chat_history"
      ],
      "metadata": {
        "id": "BzSIoGG-79i6"
      },
      "execution_count": 10,
      "outputs": []
    },
    {
      "cell_type": "code",
      "source": [
        "get_chat_history(2, dataset, embeddings, \"I love thrilling action movies set in space, with a comedic twist.\", ef)"
      ],
      "metadata": {
        "colab": {
          "base_uri": "https://localhost:8080/"
        },
        "id": "pzjSkb3P_oXU",
        "outputId": "bbe05c72-a2eb-4439-a94a-d447bb7dc346"
      },
      "execution_count": 11,
      "outputs": [
        {
          "output_type": "execute_result",
          "data": {
            "text/plain": [
              "[{'role': 'system',\n",
              "  'content': \"You are a content-based recommendation system. Your task is to process a short text description of a user's movie preferences \\n                  and compare it against a dataset of movies (each with a title and a plot summary or keywords). Based on this comparison, you will \\n                  return the top 3–5 movies that best match the user's input. return only the title of the movie\"},\n",
              " {'role': 'system',\n",
              "  'content': 'movie title: Love, Loot and Crash movie plot: Dora and her father are lost in the kitchen (they have just fired their cook). An ad for new one in the newspaper attracts two crooks (one of which is Fritz Schade). He dresses like a woman to apply for the job. At his first opportunity he plans to loot the house, but just then, a cop on the beat stops in for coffee. Fritz locks the cop in the basement, picks up what things of value he can and escapes. He and his pal drive off in a Model T. Along the way Dora is kidnapped, the Keystone Cops give chase and all ends well in the end.'},\n",
              " {'role': 'system',\n",
              "  'content': \"movie title: Caught in the Rain movie plot: The action starts in a park, where a man is trying to romance a matronly woman, wearing a fur stole.\\r\\nThe man leaves to go to a concession stall, St Rucopias, and Charlie comes along in his infamous tramp costume. He makes the woman laugh by almost soaking himself at the drinking fountain. He then sits next to her on the bench. The original man returns and is angry. He grabs Charlie by the face. He argues with the woman, waving his arms around and hitting Charlie with each movement. His last swing knocks Charlie clean over the bench. They leave and return to a hotel.\\r\\nCharlie is despondent. He leaves the park and staggers, now apparently drunk, over a wide road, almost getting hit by a car. He arrives at the same hotel and after propositioning a girl outside, enters, falling over a man's gout-bound leg at the reception desk. He checks the register to see which room the couple are in, who are meanwhile getting drunk themselves. Rushing up the stairs he slips, and slides comically back to the foot on his stomach. He makes several more dangerously balanced comical attempts, hitting the gout-bound man and his two female friends in the process.\\r\\nHe approaches the hotel room, where the original couple are arguing. His key doesn't fit but the door is open and he enters, at first not seeing the couple due to his drunken state. The man boots him out. Charlie tries another room with his key and gets in. He starts to undress and goes to bed.\\r\\nMeanwhile the man across the hall leaves his wife to go out. We are told she is a sleepwalker. She crosses the hall to sit on Charlie's bed. However the rain starts and the husband returns to the hotel to find his room empty. Charlie, now awake meets him at his door and claims not to know where his wife is. While the man goes down to reception, Charlie takes her back to her room but gets trapped when the man returns. He ends up on the balcony in the rain. But then a policeman spots him and challenges him, drawing a gun. Enter the Keystone Cops. A comic battle ensues in the hallway. The husband ends up in Charlie's room and collapses drunk on the bed. The cops disappear. The wife comes into the hall and she and Charlie fall down drunk on the floor.\"}]"
            ]
          },
          "metadata": {},
          "execution_count": 11
        }
      ]
    },
    {
      "cell_type": "code",
      "source": [
        "def call_api_openai(shots, example):\n",
        "    success = False\n",
        "    while not success:\n",
        "        try:\n",
        "            message = {'role': USER_STR, 'content': example}\n",
        "            chat_history = get_chat_history(shots, dataset, embeddings, example, ef)\n",
        "            chat_history.append(message)\n",
        "            response = client.chat.completions.create(\n",
        "                model=\"gpt-4o-mini\",\n",
        "                temperature=0.0,\n",
        "                messages=chat_history\n",
        "            )\n",
        "            success = 1\n",
        "        except Exception as err:\n",
        "            tqdm.write(f\"Caught exception: {err}\")\n",
        "    return response.choices[0].message.content"
      ],
      "metadata": {
        "id": "LZFeVsCSIqc5"
      },
      "execution_count": 12,
      "outputs": []
    },
    {
      "cell_type": "code",
      "source": [
        "text = \"I love thrilling action movies set in space, with a comedic twist.\"\n",
        "call_api_openai(10, text)"
      ],
      "metadata": {
        "colab": {
          "base_uri": "https://localhost:8080/",
          "height": 36
        },
        "id": "jDUHdgc7Kows",
        "outputId": "1f1a9886-0091-439d-f06c-aaa6f670940d"
      },
      "execution_count": 14,
      "outputs": [
        {
          "output_type": "execute_result",
          "data": {
            "text/plain": [
              "'1. A Modern Musketeer\\n2. Love, Loot and Crash\\n3. Caught in the Rain'"
            ],
            "application/vnd.google.colaboratory.intrinsic+json": {
              "type": "string"
            }
          },
          "metadata": {},
          "execution_count": 14
        }
      ]
    },
    {
      "cell_type": "code",
      "source": [],
      "metadata": {
        "id": "FHwOq8vHK1eH"
      },
      "execution_count": null,
      "outputs": []
    }
  ]
}